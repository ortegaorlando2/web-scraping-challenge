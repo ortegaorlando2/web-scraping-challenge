{
 "cells": [
  {
   "cell_type": "code",
   "execution_count": 64,
   "id": "direct-crisis",
   "metadata": {},
   "outputs": [],
   "source": [
    "# Dependencies\n",
    " \n",
    "from bs4 import BeautifulSoup as bs\n",
    "import requests\n",
    "import pandas as pd\n",
    "from selenium.webdriver import Chrome\n",
    "from selenium.webdriver.support.ui import Select\n",
    "from selenium import webdriver"
   ]
  },
  {
   "cell_type": "code",
   "execution_count": 65,
   "id": "filled-albuquerque",
   "metadata": {},
   "outputs": [],
   "source": [
    "#telling the Chrome driver where is the executable\n",
    "driver = Chrome(executable_path='C:/Webdriver/bin/chromedriver')\n"
   ]
  },
  {
   "cell_type": "code",
   "execution_count": 66,
   "id": "capital-cooperative",
   "metadata": {},
   "outputs": [],
   "source": [
    "#defining a string variable with the website url\n",
    "url = \"https://mars.nasa.gov/news/\""
   ]
  },
  {
   "cell_type": "code",
   "execution_count": 67,
   "id": "white-proposition",
   "metadata": {},
   "outputs": [],
   "source": [
    "#Making a connection to the Nasa News website\n",
    "r = requests.get(url)"
   ]
  },
  {
   "cell_type": "code",
   "execution_count": 68,
   "id": "compound-melissa",
   "metadata": {},
   "outputs": [],
   "source": [
    "#creating a soup object with the html data\n",
    "soup = bs(r.text, 'html')"
   ]
  },
  {
   "cell_type": "code",
   "execution_count": 69,
   "id": "bottom-clinton",
   "metadata": {},
   "outputs": [],
   "source": [
    "#Finding all the div tags in the soup\n",
    "texto=soup.find_all('div')"
   ]
  },
  {
   "cell_type": "code",
   "execution_count": 70,
   "id": "imposed-furniture",
   "metadata": {},
   "outputs": [],
   "source": [
    "# Opening the website\n",
    "driver.get(url)\n",
    " "
   ]
  },
  {
   "cell_type": "code",
   "execution_count": 71,
   "id": "known-climate",
   "metadata": {},
   "outputs": [],
   "source": [
    "# getting the button by class name\n",
    "button = driver.find_element_by_class_name(\"menu_icon\")\n",
    " "
   ]
  },
  {
   "cell_type": "code",
   "execution_count": 72,
   "id": "abroad-antique",
   "metadata": {},
   "outputs": [],
   "source": [
    "# clicking on the button\n",
    "button.click()"
   ]
  },
  {
   "cell_type": "code",
   "execution_count": 73,
   "id": "decreased-mexican",
   "metadata": {},
   "outputs": [],
   "source": [
    "#Defining a button for a reactive element which matches the request\n",
    "button = driver.find_element_by_id(\"li_4\")\n",
    " "
   ]
  },
  {
   "cell_type": "code",
   "execution_count": 74,
   "id": "hawaiian-telescope",
   "metadata": {},
   "outputs": [],
   "source": [
    "#click the button\n",
    "button.click()"
   ]
  },
  {
   "cell_type": "code",
   "execution_count": 75,
   "id": "temporal-solid",
   "metadata": {},
   "outputs": [
    {
     "data": {
      "text/plain": [
       "'https://mars.nasa.gov/#news_and_events'"
      ]
     },
     "execution_count": 75,
     "metadata": {},
     "output_type": "execute_result"
    }
   ],
   "source": [
    "#saving the current url to a variable for automation\n",
    "url2=driver.current_url\n",
    "url2"
   ]
  },
  {
   "cell_type": "code",
   "execution_count": 76,
   "id": "nervous-coating",
   "metadata": {},
   "outputs": [],
   "source": [
    "#Connecting with the News and Events website\n",
    "r2=requests.get(url2)"
   ]
  },
  {
   "cell_type": "code",
   "execution_count": 77,
   "id": "annoying-sheet",
   "metadata": {},
   "outputs": [],
   "source": [
    "#creating a soup object with the html text from the Mars Nasa website news and events\n",
    "soup2 = bs(r2.text, 'lxml')"
   ]
  },
  {
   "cell_type": "code",
   "execution_count": 78,
   "id": "institutional-chest",
   "metadata": {},
   "outputs": [],
   "source": [
    "#Looking for all the news and then selecting only the latest news \n",
    "texto2=soup2.find_all('h3', class_=\"title\")\n",
    "textoTitle=texto2[0].text.strip()"
   ]
  },
  {
   "cell_type": "code",
   "execution_count": 79,
   "id": "dutch-spread",
   "metadata": {},
   "outputs": [],
   "source": [
    "#defining the button content (reactive link) for the first news\n",
    "button=driver.find_element_by_class_name('list_image')"
   ]
  },
  {
   "cell_type": "code",
   "execution_count": 80,
   "id": "sufficient-front",
   "metadata": {},
   "outputs": [],
   "source": [
    "#clicking button \n",
    "button.click()"
   ]
  },
  {
   "cell_type": "code",
   "execution_count": 81,
   "id": "engaged-rating",
   "metadata": {},
   "outputs": [
    {
     "data": {
      "text/plain": [
       "'https://mars.nasa.gov/news/8865/touchdown-nasas-mars-perseverance-rover-safely-lands-on-red-planet/'"
      ]
     },
     "execution_count": 81,
     "metadata": {},
     "output_type": "execute_result"
    }
   ],
   "source": [
    "#Checking the url of the redirected website. Saving to a variable\n",
    "url3=driver.current_url\n",
    "url3"
   ]
  },
  {
   "cell_type": "code",
   "execution_count": 82,
   "id": "early-radar",
   "metadata": {},
   "outputs": [],
   "source": [
    "#connect to the website that contains the main news\n",
    "r3=requests.get(url3)"
   ]
  },
  {
   "cell_type": "code",
   "execution_count": 83,
   "id": "capable-oakland",
   "metadata": {},
   "outputs": [],
   "source": [
    "#create a soup object for this website\n",
    "soup3=bs(r3.text,'lxml')"
   ]
  },
  {
   "cell_type": "code",
   "execution_count": 84,
   "id": "incomplete-hudson",
   "metadata": {},
   "outputs": [
    {
     "data": {
      "text/plain": [
       "<p><i>The agency’s latest and most complex mission to the Red Planet has touched down at Jezero Crater. Now it’s time to begin testing the health of the rover.  </i></p>"
      ]
     },
     "execution_count": 84,
     "metadata": {},
     "output_type": "execute_result"
    }
   ],
   "source": [
    "#This is the first paragraph of the main text of these news\n",
    "texto3=soup3.find('p')\n",
    "texto3"
   ]
  },
  {
   "cell_type": "code",
   "execution_count": 85,
   "id": "first-essence",
   "metadata": {},
   "outputs": [],
   "source": [
    "#define a variable with the string of the Space facts website\n",
    "url4='https://space-facts.com/mars/'"
   ]
  },
  {
   "cell_type": "code",
   "execution_count": 86,
   "id": "viral-bulgarian",
   "metadata": {},
   "outputs": [],
   "source": [
    "#Using requests to connect to Space Facts website\n",
    "r4=requests.get(url4)"
   ]
  },
  {
   "cell_type": "code",
   "execution_count": 87,
   "id": "organic-engine",
   "metadata": {},
   "outputs": [],
   "source": [
    "#creating a soup element for this website (Mars Facts)\n",
    "soup4=bs(r4.text,'html')"
   ]
  },
  {
   "cell_type": "code",
   "execution_count": 88,
   "id": "mathematical-corner",
   "metadata": {},
   "outputs": [],
   "source": [
    "#extracting html from website\n",
    "texto4=soup4.find('table')\n",
    "#texto4"
   ]
  },
  {
   "cell_type": "code",
   "execution_count": 89,
   "id": "racial-credits",
   "metadata": {},
   "outputs": [
    {
     "data": {
      "text/html": [
       "<div>\n",
       "<style scoped>\n",
       "    .dataframe tbody tr th:only-of-type {\n",
       "        vertical-align: middle;\n",
       "    }\n",
       "\n",
       "    .dataframe tbody tr th {\n",
       "        vertical-align: top;\n",
       "    }\n",
       "\n",
       "    .dataframe thead th {\n",
       "        text-align: right;\n",
       "    }\n",
       "</style>\n",
       "<table border=\"1\" class=\"dataframe\">\n",
       "  <thead>\n",
       "    <tr style=\"text-align: right;\">\n",
       "      <th></th>\n",
       "      <th>0</th>\n",
       "      <th>1</th>\n",
       "    </tr>\n",
       "  </thead>\n",
       "  <tbody>\n",
       "    <tr>\n",
       "      <th>0</th>\n",
       "      <td>Equatorial Diameter:</td>\n",
       "      <td>6,792 km</td>\n",
       "    </tr>\n",
       "    <tr>\n",
       "      <th>1</th>\n",
       "      <td>Polar Diameter:</td>\n",
       "      <td>6,752 km</td>\n",
       "    </tr>\n",
       "    <tr>\n",
       "      <th>2</th>\n",
       "      <td>Mass:</td>\n",
       "      <td>6.39 × 10^23 kg (0.11 Earths)</td>\n",
       "    </tr>\n",
       "    <tr>\n",
       "      <th>3</th>\n",
       "      <td>Moons:</td>\n",
       "      <td>2 (Phobos &amp; Deimos)</td>\n",
       "    </tr>\n",
       "    <tr>\n",
       "      <th>4</th>\n",
       "      <td>Orbit Distance:</td>\n",
       "      <td>227,943,824 km (1.38 AU)</td>\n",
       "    </tr>\n",
       "    <tr>\n",
       "      <th>5</th>\n",
       "      <td>Orbit Period:</td>\n",
       "      <td>687 days (1.9 years)</td>\n",
       "    </tr>\n",
       "    <tr>\n",
       "      <th>6</th>\n",
       "      <td>Surface Temperature:</td>\n",
       "      <td>-87 to -5 °C</td>\n",
       "    </tr>\n",
       "    <tr>\n",
       "      <th>7</th>\n",
       "      <td>First Record:</td>\n",
       "      <td>2nd millennium BC</td>\n",
       "    </tr>\n",
       "    <tr>\n",
       "      <th>8</th>\n",
       "      <td>Recorded By:</td>\n",
       "      <td>Egyptian astronomers</td>\n",
       "    </tr>\n",
       "  </tbody>\n",
       "</table>\n",
       "</div>"
      ],
      "text/plain": [
       "                      0                              1\n",
       "0  Equatorial Diameter:                       6,792 km\n",
       "1       Polar Diameter:                       6,752 km\n",
       "2                 Mass:  6.39 × 10^23 kg (0.11 Earths)\n",
       "3                Moons:            2 (Phobos & Deimos)\n",
       "4       Orbit Distance:       227,943,824 km (1.38 AU)\n",
       "5         Orbit Period:           687 days (1.9 years)\n",
       "6  Surface Temperature:                   -87 to -5 °C\n",
       "7         First Record:              2nd millennium BC\n",
       "8          Recorded By:           Egyptian astronomers"
      ]
     },
     "execution_count": 89,
     "metadata": {},
     "output_type": "execute_result"
    }
   ],
   "source": [
    "#reading the html table from the website Mars Facts\n",
    "table=pd.read_html(url4)\n",
    "table[0]"
   ]
  },
  {
   "cell_type": "code",
   "execution_count": 90,
   "id": "informal-semester",
   "metadata": {},
   "outputs": [
    {
     "data": {
      "text/html": [
       "<div>\n",
       "<style scoped>\n",
       "    .dataframe tbody tr th:only-of-type {\n",
       "        vertical-align: middle;\n",
       "    }\n",
       "\n",
       "    .dataframe tbody tr th {\n",
       "        vertical-align: top;\n",
       "    }\n",
       "\n",
       "    .dataframe thead th {\n",
       "        text-align: right;\n",
       "    }\n",
       "</style>\n",
       "<table border=\"1\" class=\"dataframe\">\n",
       "  <thead>\n",
       "    <tr style=\"text-align: right;\">\n",
       "      <th></th>\n",
       "      <th>Property</th>\n",
       "      <th>Value</th>\n",
       "    </tr>\n",
       "  </thead>\n",
       "  <tbody>\n",
       "    <tr>\n",
       "      <th>0</th>\n",
       "      <td>Equatorial Diameter:</td>\n",
       "      <td>6,792 km</td>\n",
       "    </tr>\n",
       "    <tr>\n",
       "      <th>1</th>\n",
       "      <td>Polar Diameter:</td>\n",
       "      <td>6,752 km</td>\n",
       "    </tr>\n",
       "    <tr>\n",
       "      <th>2</th>\n",
       "      <td>Mass:</td>\n",
       "      <td>6.39 × 10^23 kg (0.11 Earths)</td>\n",
       "    </tr>\n",
       "    <tr>\n",
       "      <th>3</th>\n",
       "      <td>Moons:</td>\n",
       "      <td>2 (Phobos &amp; Deimos)</td>\n",
       "    </tr>\n",
       "    <tr>\n",
       "      <th>4</th>\n",
       "      <td>Orbit Distance:</td>\n",
       "      <td>227,943,824 km (1.38 AU)</td>\n",
       "    </tr>\n",
       "    <tr>\n",
       "      <th>5</th>\n",
       "      <td>Orbit Period:</td>\n",
       "      <td>687 days (1.9 years)</td>\n",
       "    </tr>\n",
       "    <tr>\n",
       "      <th>6</th>\n",
       "      <td>Surface Temperature:</td>\n",
       "      <td>-87 to -5 °C</td>\n",
       "    </tr>\n",
       "    <tr>\n",
       "      <th>7</th>\n",
       "      <td>First Record:</td>\n",
       "      <td>2nd millennium BC</td>\n",
       "    </tr>\n",
       "    <tr>\n",
       "      <th>8</th>\n",
       "      <td>Recorded By:</td>\n",
       "      <td>Egyptian astronomers</td>\n",
       "    </tr>\n",
       "  </tbody>\n",
       "</table>\n",
       "</div>"
      ],
      "text/plain": [
       "               Property                          Value\n",
       "0  Equatorial Diameter:                       6,792 km\n",
       "1       Polar Diameter:                       6,752 km\n",
       "2                 Mass:  6.39 × 10^23 kg (0.11 Earths)\n",
       "3                Moons:            2 (Phobos & Deimos)\n",
       "4       Orbit Distance:       227,943,824 km (1.38 AU)\n",
       "5         Orbit Period:           687 days (1.9 years)\n",
       "6  Surface Temperature:                   -87 to -5 °C\n",
       "7         First Record:              2nd millennium BC\n",
       "8          Recorded By:           Egyptian astronomers"
      ]
     },
     "execution_count": 90,
     "metadata": {},
     "output_type": "execute_result"
    }
   ],
   "source": [
    "#cresting a dataframe with the information extracted from Mars Facts\n",
    "df=pd.DataFrame(table[0])\n",
    "df.rename(columns = {0:'Property', 1:'Value'}, inplace = True)\n",
    "df"
   ]
  },
  {
   "cell_type": "code",
   "execution_count": 91,
   "id": "developed-calcium",
   "metadata": {},
   "outputs": [],
   "source": [
    "#Converting the Mars facts to html code\n",
    "t_html=pd.DataFrame.to_html(df)\n",
    "#t_html\n"
   ]
  },
  {
   "cell_type": "code",
   "execution_count": 92,
   "id": "qualified-promotion",
   "metadata": {},
   "outputs": [],
   "source": [
    "#website for the hemisphere images of Mars\n",
    "url5='https://astrogeology.usgs.gov/search/results?q=hemisphere+enhanced&k1=target&v1=Mars'"
   ]
  },
  {
   "cell_type": "code",
   "execution_count": null,
   "id": "foreign-river",
   "metadata": {},
   "outputs": [],
   "source": []
  },
  {
   "cell_type": "code",
   "execution_count": 93,
   "id": "adapted-supplement",
   "metadata": {},
   "outputs": [],
   "source": [
    "#executing the driver to automatically go to the website\n",
    "driver.get(url5)"
   ]
  },
  {
   "cell_type": "code",
   "execution_count": 94,
   "id": "mobile-senator",
   "metadata": {},
   "outputs": [],
   "source": [
    "#Create a beautiful soup element with the the html \n",
    "main=bs(r5.text,'lxml')\n",
    "titles=main.find_all('div', class_='description')\n",
    "#titles"
   ]
  },
  {
   "cell_type": "code",
   "execution_count": null,
   "id": "recognized-breakfast",
   "metadata": {},
   "outputs": [],
   "source": []
  },
  {
   "cell_type": "code",
   "execution_count": 95,
   "id": "french-trailer",
   "metadata": {},
   "outputs": [],
   "source": [
    "#collecting the titles of the various images\n",
    "In [1]: titlist=[]\n",
    "\n",
    "try:\n",
    "    for tit in titles:\n",
    "        tititem=tit.find('h3').text\n",
    "        titlist.append(tititem)\n",
    "\n",
    "except:\n",
    "    print(\"Something went wrong\")\n",
    "    print(titlist)"
   ]
  },
  {
   "cell_type": "code",
   "execution_count": null,
   "id": "stainless-silence",
   "metadata": {},
   "outputs": [],
   "source": []
  },
  {
   "cell_type": "code",
   "execution_count": 96,
   "id": "announced-execution",
   "metadata": {},
   "outputs": [],
   "source": [
    "#including a wait for these websites because the response is not fast\n",
    "driver.implicitly_wait(10)"
   ]
  },
  {
   "cell_type": "code",
   "execution_count": 97,
   "id": "historical-jacksonville",
   "metadata": {},
   "outputs": [
    {
     "data": {
      "text/plain": [
       "['https://astrogeology.usgs.gov/search/map/Mars/Viking/cerberus_enhanced',\n",
       " 'https://astrogeology.usgs.gov/search/map/Mars/Viking/schiaparelli_enhanced',\n",
       " 'https://astrogeology.usgs.gov/search/map/Mars/Viking/syrtis_major_enhanced',\n",
       " 'https://astrogeology.usgs.gov/search/map/Mars/Viking/valles_marineris_enhanced']"
      ]
     },
     "execution_count": 97,
     "metadata": {},
     "output_type": "execute_result"
    }
   ],
   "source": [
    "#getting the references from the html script\n",
    "elems = driver.find_elements_by_css_selector(\".description [href]\")\n",
    "links = [elem.get_attribute('href') for elem in elems]\n",
    "links"
   ]
  },
  {
   "cell_type": "code",
   "execution_count": 98,
   "id": "current-hughes",
   "metadata": {},
   "outputs": [
    {
     "ename": "SyntaxError",
     "evalue": "invalid syntax (<ipython-input-98-36752a52f8f2>, line 8)",
     "output_type": "error",
     "traceback": [
      "\u001b[1;36m  File \u001b[1;32m\"<ipython-input-98-36752a52f8f2>\"\u001b[1;36m, line \u001b[1;32m8\u001b[0m\n\u001b[1;33m    ...:     return urlimg\u001b[0m\n\u001b[1;37m             ^\u001b[0m\n\u001b[1;31mSyntaxError\u001b[0m\u001b[1;31m:\u001b[0m invalid syntax\n"
     ]
    }
   ],
   "source": [
    "#defining a function to call several times the website and click on each image\n",
    "def but1(tag):\n",
    "   ...:     urln=links[tag]\n",
    "   ...:     driver.get(urln)\n",
    "   ...:     button=driver.find_element_by_link_text(\"Sample\")\n",
    "   ...:     button.click()\n",
    "   ...:     urlimg=driver.current_url\n",
    "   ...:     return urlimg"
   ]
  },
  {
   "cell_type": "code",
   "execution_count": 99,
   "id": "naughty-watershed",
   "metadata": {},
   "outputs": [
    {
     "name": "stdout",
     "output_type": "stream",
     "text": [
      "['https://astrogeology.usgs.gov/search/map/Mars/Viking/cerberus_enhanced', 'https://astrogeology.usgs.gov/search/map/Mars/Viking/schiaparelli_enhanced', 'https://astrogeology.usgs.gov/search/map/Mars/Viking/syrtis_major_enhanced', 'https://astrogeology.usgs.gov/search/map/Mars/Viking/valles_marineris_enhanced']\n"
     ]
    }
   ],
   "source": [
    "#Extracting the links to the images from the website (these are not the downloadable ones)\n",
    "urlimg=[]\n",
    "for u in range(4):\n",
    "    addurl=but1(u)\n",
    "    urlimg.append(addurl)\n",
    "    \n",
    "print(urlimg)"
   ]
  },
  {
   "cell_type": "code",
   "execution_count": null,
   "id": "ceramic-amazon",
   "metadata": {},
   "outputs": [],
   "source": []
  },
  {
   "cell_type": "code",
   "execution_count": 100,
   "id": "sunrise-penetration",
   "metadata": {},
   "outputs": [],
   "source": [
    "#assigning a variable to the Mars images website\n",
    "url6='https://astropedia.astrogeology.usgs.gov/download/Mars/Viking/cerberus_enhanced.tif/full.jpg'"
   ]
  },
  {
   "cell_type": "code",
   "execution_count": 101,
   "id": "graduate-formula",
   "metadata": {},
   "outputs": [
    {
     "data": {
      "text/plain": [
       "<Response [200]>"
      ]
     },
     "execution_count": 101,
     "metadata": {},
     "output_type": "execute_result"
    }
   ],
   "source": [
    "#testing the response of the website\n",
    "r6=requests.get(url6, timeout=10)\n",
    "r6"
   ]
  },
  {
   "cell_type": "code",
   "execution_count": 102,
   "id": "minus-chemical",
   "metadata": {},
   "outputs": [
    {
     "data": {
      "text/html": [
       "<div>\n",
       "<style scoped>\n",
       "    .dataframe tbody tr th:only-of-type {\n",
       "        vertical-align: middle;\n",
       "    }\n",
       "\n",
       "    .dataframe tbody tr th {\n",
       "        vertical-align: top;\n",
       "    }\n",
       "\n",
       "    .dataframe thead th {\n",
       "        text-align: right;\n",
       "    }\n",
       "</style>\n",
       "<table border=\"1\" class=\"dataframe\">\n",
       "  <thead>\n",
       "    <tr style=\"text-align: right;\">\n",
       "      <th></th>\n",
       "      <th>Cerberus Hemisphere Enhanced</th>\n",
       "      <th>Schiaparelli Hemisphere Enhanced</th>\n",
       "      <th>Syrtis Major Hemisphere Enhanced</th>\n",
       "      <th>Valles Marineris Hemisphere Enhanced</th>\n",
       "    </tr>\n",
       "  </thead>\n",
       "  <tbody>\n",
       "    <tr>\n",
       "      <th>0</th>\n",
       "      <td>https://astrogeology.usgs.gov/search/map/Mars/...</td>\n",
       "      <td>https://astrogeology.usgs.gov/search/map/Mars/...</td>\n",
       "      <td>https://astrogeology.usgs.gov/search/map/Mars/...</td>\n",
       "      <td>https://astrogeology.usgs.gov/search/map/Mars/...</td>\n",
       "    </tr>\n",
       "  </tbody>\n",
       "</table>\n",
       "</div>"
      ],
      "text/plain": [
       "                        Cerberus Hemisphere Enhanced  \\\n",
       "0  https://astrogeology.usgs.gov/search/map/Mars/...   \n",
       "\n",
       "                    Schiaparelli Hemisphere Enhanced  \\\n",
       "0  https://astrogeology.usgs.gov/search/map/Mars/...   \n",
       "\n",
       "                    Syrtis Major Hemisphere Enhanced  \\\n",
       "0  https://astrogeology.usgs.gov/search/map/Mars/...   \n",
       "\n",
       "                Valles Marineris Hemisphere Enhanced  \n",
       "0  https://astrogeology.usgs.gov/search/map/Mars/...  "
      ]
     },
     "execution_count": 102,
     "metadata": {},
     "output_type": "execute_result"
    }
   ],
   "source": [
    "#inspecting the dataframe for images\n",
    "pd.DataFrame({titlist[i]: links[i] for i in range(len(links))}, index=[0])"
   ]
  },
  {
   "cell_type": "code",
   "execution_count": 103,
   "id": "cognitive-flash",
   "metadata": {},
   "outputs": [],
   "source": [
    "hemispheres=[]"
   ]
  },
  {
   "cell_type": "code",
   "execution_count": 105,
   "id": "responsible-march",
   "metadata": {},
   "outputs": [
    {
     "name": "stdout",
     "output_type": "stream",
     "text": [
      "[{'Cerberus Hemisphere Enhanced': 'https://astrogeology.usgs.gov/search/map/Mars/Viking/cerberus_enhanced'}, {'Schiaparelli Hemisphere Enhanced': 'https://astrogeology.usgs.gov/search/map/Mars/Viking/schiaparelli_enhanced'}, {'Syrtis Major Hemisphere Enhanced': 'https://astrogeology.usgs.gov/search/map/Mars/Viking/syrtis_major_enhanced'}, {'Valles Marineris Hemisphere Enhanced': 'https://astrogeology.usgs.gov/search/map/Mars/Viking/valles_marineris_enhanced'}]\n"
     ]
    }
   ],
   "source": [
    "# saving a list of dictionaries with Mars images information\n",
    "for i in range(4):\n",
    "    dic={titlist[i]:links[i]}\n",
    "    hemispheres.append(dic)\n",
    "\n",
    "print(hemispheres)"
   ]
  },
  {
   "cell_type": "code",
   "execution_count": null,
   "id": "imposed-howard",
   "metadata": {},
   "outputs": [],
   "source": []
  }
 ],
 "metadata": {
  "kernelspec": {
   "display_name": "Python 3",
   "language": "python",
   "name": "python3"
  },
  "language_info": {
   "codemirror_mode": {
    "name": "ipython",
    "version": 3
   },
   "file_extension": ".py",
   "mimetype": "text/x-python",
   "name": "python",
   "nbconvert_exporter": "python",
   "pygments_lexer": "ipython3",
   "version": "3.8.5"
  }
 },
 "nbformat": 4,
 "nbformat_minor": 5
}
