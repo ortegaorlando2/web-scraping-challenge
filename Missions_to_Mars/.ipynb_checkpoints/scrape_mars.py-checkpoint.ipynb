{
 "cells": [
  {
   "cell_type": "code",
   "execution_count": null,
   "id": "super-screw",
   "metadata": {},
   "outputs": [],
   "source": [
    "#Dependencies\n",
    "from flask import Flask, render_template, redirect\n",
    "from pymongo import MongoClient\n",
    "import scrape"
   ]
  },
  {
   "cell_type": "code",
   "execution_count": null,
   "id": "specialized-violence",
   "metadata": {},
   "outputs": [],
   "source": [
    "#this creates Flask\n",
    "app = Flask(__name__)\n",
    "\n",
    "# Use pymongo to set up mongo connection\n",
    "mongo_url = \"mongodb://localhost:27017\"\n",
    "client = MongoClient(mongo_url)\n",
    "db = client.craigslist_db"
   ]
  },
  {
   "cell_type": "code",
   "execution_count": null,
   "id": "olive-palmer",
   "metadata": {},
   "outputs": [],
   "source": [
    "@app.route(\"/scrape\")\n",
    "def scraper():\n",
    "\n",
    "    return render_template('index.html', text='Welcome to my API')"
   ]
  },
  {
   "cell_type": "code",
   "execution_count": null,
   "id": "charitable-harris",
   "metadata": {},
   "outputs": [],
   "source": [
    "@app.route(\"/\")\n",
    "def index():\n",
    "    listings = db.houston_listings.find_one()\n",
    "    return render_template(\"index.html\", listings=listings)\n"
   ]
  },
  {
   "cell_type": "code",
   "execution_count": null,
   "id": "compound-stuart",
   "metadata": {},
   "outputs": [],
   "source": [
    "if __name__ == \"__main__\":\n",
    "    app.run(debug=True)"
   ]
  }
 ],
 "metadata": {
  "kernelspec": {
   "display_name": "Python 3",
   "language": "python",
   "name": "python3"
  },
  "language_info": {
   "codemirror_mode": {
    "name": "ipython",
    "version": 3
   },
   "file_extension": ".py",
   "mimetype": "text/x-python",
   "name": "python",
   "nbconvert_exporter": "python",
   "pygments_lexer": "ipython3",
   "version": "3.8.5"
  }
 },
 "nbformat": 4,
 "nbformat_minor": 5
}
