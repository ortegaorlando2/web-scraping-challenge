{
 "cells": [
  {
   "cell_type": "markdown",
   "id": "bridal-layout",
   "metadata": {},
   "source": [
    "## Website data extraction  _original in mission_to_mars.ipynb"
   ]
  },
  {
   "cell_type": "markdown",
   "id": "biblical-sally",
   "metadata": {},
   "source": [
    "## Python script  in scrape_mars.py"
   ]
  },
  {
   "cell_type": "markdown",
   "id": "industrial-salon",
   "metadata": {},
   "source": [
    "## Mongo and Flask"
   ]
  },
  {
   "cell_type": "code",
   "execution_count": 15,
   "id": "super-screw",
   "metadata": {},
   "outputs": [],
   "source": [
    "#Dependencies\n",
    "#Flask\n",
    "from flask import Flask, render_template, redirect\n",
    "#connection to MongoDb\n",
    "from pymongo import MongoClient"
   ]
  },
  {
   "cell_type": "code",
   "execution_count": 16,
   "id": "operational-yugoslavia",
   "metadata": {},
   "outputs": [],
   "source": [
    "#import the script as a class and module\n",
    "from scrape_mars import myClass"
   ]
  },
  {
   "cell_type": "code",
   "execution_count": 17,
   "id": "electronic-drinking",
   "metadata": {},
   "outputs": [],
   "source": [
    "#prepare mongo to upload the images dictionary, my local host is 27017 \n",
    "mongo_url = \"mongodb://localhost:27017\"\n",
    "#pass Mongo URL to MongoClient constructor. Defines the connection\n",
    "client = MongoClient(mongo_url)\n",
    "#defines the MarsPhotos_db on the Mongo database for this code\n",
    "db = client.MarsPhotos_db\n",
    "#handle to the connection to insert the data. Define the variable\n",
    "\n",
    "#Mars_collection that will contain the data\n",
    "HemImages=db.HemImages\n"
   ]
  },
  {
   "cell_type": "code",
   "execution_count": 18,
   "id": "suited-processor",
   "metadata": {},
   "outputs": [],
   "source": [
    "#Initialize some variables\n",
    "dicti={\"\":\"\"}\n",
    "hemispheres=[]\n",
    "textoTitle=\"\"\n",
    "texto3=\"\"\n",
    "t_html=\"\""
   ]
  },
  {
   "cell_type": "code",
   "execution_count": 22,
   "id": "printable-lying",
   "metadata": {},
   "outputs": [],
   "source": [
    "#run remote class and method to obtain data scraped from websites\n",
    "#f=myClass.scrape(dicti,hemispheres)"
   ]
  },
  {
   "cell_type": "code",
   "execution_count": 21,
   "id": "intense-roberts",
   "metadata": {},
   "outputs": [],
   "source": [
    "#print(f)"
   ]
  },
  {
   "cell_type": "code",
   "execution_count": 19,
   "id": "constitutional-agenda",
   "metadata": {},
   "outputs": [],
   "source": [
    "#temporarilly defining the dictionary until the websites respond\n",
    "hemispheres=[{'Cerberus Hemisphere Enhanced': 'https://astrogeology.usgs.gov/search/map/Mars/Viking/cerberus_enhanced'}, {'Schiaparelli Hemisphere Enhanced': 'https://astrogeology.usgs.gov/search/map/Mars/Viking/schiaparelli_enhanced'}, {'Syrtis Major Hemisphere Enhanced': 'https://astrogeology.usgs.gov/search/map/Mars/Viking/syrtis_major_enhanced'}, {'Valles Marineris Hemisphere Enhanced': 'https://astrogeology.usgs.gov/search/map/Mars/Viking/valles_marineris_enhanced'}]"
   ]
  },
  {
   "cell_type": "code",
   "execution_count": 23,
   "id": "original-detail",
   "metadata": {},
   "outputs": [
    {
     "name": "stdout",
     "output_type": "stream",
     "text": [
      "[{'Cerberus Hemisphere Enhanced': 'https://astrogeology.usgs.gov/search/map/Mars/Viking/cerberus_enhanced'}, {'Schiaparelli Hemisphere Enhanced': 'https://astrogeology.usgs.gov/search/map/Mars/Viking/schiaparelli_enhanced'}, {'Syrtis Major Hemisphere Enhanced': 'https://astrogeology.usgs.gov/search/map/Mars/Viking/syrtis_major_enhanced'}, {'Valles Marineris Hemisphere Enhanced': 'https://astrogeology.usgs.gov/search/map/Mars/Viking/valles_marineris_enhanced'}]\n"
     ]
    }
   ],
   "source": [
    "#checked the dictionary quality\n",
    "print(hemispheres)   \n",
    "    "
   ]
  },
  {
   "cell_type": "code",
   "execution_count": 24,
   "id": "referenced-surge",
   "metadata": {},
   "outputs": [
    {
     "data": {
      "text/plain": [
       "<pymongo.results.InsertManyResult at 0x1a09f050840>"
      ]
     },
     "execution_count": 24,
     "metadata": {},
     "output_type": "execute_result"
    }
   ],
   "source": [
    "HemImages.insert_many(hemispheres)"
   ]
  },
  {
   "cell_type": "code",
   "execution_count": 26,
   "id": "stylish-retrieval",
   "metadata": {},
   "outputs": [
    {
     "name": "stdout",
     "output_type": "stream",
     "text": [
      "{'_id': ObjectId('603057b9083eb8db99f7cb7a'), 'Cerberus Hemisphere Enhanced': 'https://astrogeology.usgs.gov/search/map/Mars/Viking/cerberus_enhanced'}\n",
      "{'_id': ObjectId('603057b9083eb8db99f7cb7b'), 'Schiaparelli Hemisphere Enhanced': 'https://astrogeology.usgs.gov/search/map/Mars/Viking/schiaparelli_enhanced'}\n",
      "{'_id': ObjectId('603057b9083eb8db99f7cb7c'), 'Syrtis Major Hemisphere Enhanced': 'https://astrogeology.usgs.gov/search/map/Mars/Viking/syrtis_major_enhanced'}\n",
      "{'_id': ObjectId('603057b9083eb8db99f7cb7d'), 'Valles Marineris Hemisphere Enhanced': 'https://astrogeology.usgs.gov/search/map/Mars/Viking/valles_marineris_enhanced'}\n"
     ]
    }
   ],
   "source": [
    "#verify the results\n",
    "results= HemImages.find()\n",
    "for result in results:\n",
    "    print(result)"
   ]
  },
  {
   "cell_type": "code",
   "execution_count": null,
   "id": "dedicated-thermal",
   "metadata": {},
   "outputs": [],
   "source": []
  },
  {
   "cell_type": "code",
   "execution_count": 27,
   "id": "minimal-letter",
   "metadata": {},
   "outputs": [],
   "source": [
    "#The name of this python module is __name__\n",
    "app = Flask(__name__) #Flask application is being instatiated by the function __name__ and that identifies with app"
   ]
  },
  {
   "cell_type": "code",
   "execution_count": 28,
   "id": "sapphire-coordination",
   "metadata": {},
   "outputs": [],
   "source": [
    "#I am defining my appliccation route / endpoint\n",
    "@app.route(\"/\")  #whenever it goes to this route it runs this code\n",
    "def echo(): #this function will be invoque from that route\n",
    "    return render_template(\"index.html\",text=\"Welcome to my rough Mars API\")"
   ]
  },
  {
   "cell_type": "code",
   "execution_count": 11,
   "id": "welsh-helicopter",
   "metadata": {},
   "outputs": [
    {
     "name": "stdout",
     "output_type": "stream",
     "text": [
      " * Serving Flask app \"__main__\" (lazy loading)\n",
      " * Environment: production\n",
      "   WARNING: This is a development server. Do not use it in a production deployment.\n",
      "   Use a production WSGI server instead.\n",
      " * Debug mode: on\n"
     ]
    },
    {
     "name": "stderr",
     "output_type": "stream",
     "text": [
      " * Restarting with stat\n"
     ]
    },
    {
     "ename": "SystemExit",
     "evalue": "1",
     "output_type": "error",
     "traceback": [
      "An exception has occurred, use %tb to see the full traceback.\n",
      "\u001b[1;31mSystemExit\u001b[0m\u001b[1;31m:\u001b[0m 1\n"
     ]
    },
    {
     "name": "stderr",
     "output_type": "stream",
     "text": [
      "C:\\Users\\oorte\\anaconda3\\envs\\MongoEnv\\lib\\site-packages\\IPython\\core\\interactiveshell.py:3426: UserWarning: To exit: use 'exit', 'quit', or Ctrl-D.\n",
      "  warn(\"To exit: use 'exit', 'quit', or Ctrl-D.\", stacklevel=1)\n"
     ]
    }
   ],
   "source": [
    "if __name__ == \"__main__\":\n",
    "    app.run(debug=True)"
   ]
  },
  {
   "cell_type": "code",
   "execution_count": null,
   "id": "attempted-studio",
   "metadata": {},
   "outputs": [],
   "source": [
    "# def home():\n",
    "\n",
    "#     message = \"Welcome to my rough Mars API\"\n",
    "#     WhatsNew = db.MarsNews_Mongo.find_one()\n",
    "#     Sources_list=[\"https://mars.nasa.gov/news/\",\n",
    "#     \"https://www.jpl.nasa.gov/spaceimages/?search=&category=Mars\",\n",
    "#     \"https://space-facts.com/mars/\"]\n",
    "    \n",
    "#     return render_template(\"index.html\", WhatsNew=WhatsNew)"
   ]
  },
  {
   "cell_type": "code",
   "execution_count": 18,
   "id": "virtual-batman",
   "metadata": {},
   "outputs": [],
   "source": [
    "# #This is the route that will import dictionary\n",
    "# @Marsget_app.route(\"/scrape\"):\n",
    "\n",
    "# def scraper1():\n",
    "#     f=myClass.scrape(hemispheres)"
   ]
  },
  {
   "cell_type": "code",
   "execution_count": null,
   "id": "great-trauma",
   "metadata": {},
   "outputs": [],
   "source": [
    "# #this creates Flask app\n",
    "# Marsget_app = Flask(__name__)"
   ]
  },
  {
   "cell_type": "code",
   "execution_count": null,
   "id": "olive-palmer",
   "metadata": {},
   "outputs": [],
   "source": [
    "# HemImages.insert_many(hemispheres)"
   ]
  },
  {
   "cell_type": "code",
   "execution_count": null,
   "id": "charitable-harris",
   "metadata": {},
   "outputs": [],
   "source": [
    "# @Mars_app.route(\"/\")\n",
    "# def query():\n",
    "#     message = \"Welcome to my rough Mars API\"\n",
    "#     WhatsNew = db.MarsNews_Mongo.find_one()\n",
    "#     return render_template(\"index.html\", WhatsNew=WhatsNew)\n"
   ]
  },
  {
   "cell_type": "code",
   "execution_count": null,
   "id": "identified-discipline",
   "metadata": {},
   "outputs": [],
   "source": [
    "# @Mars_app.route(\"/bio\")\n",
    "# def bio():\n",
    "#     return render_template(\"bio.html\")"
   ]
  },
  {
   "cell_type": "code",
   "execution_count": null,
   "id": "advanced-ground",
   "metadata": {},
   "outputs": [],
   "source": [
    "# @Mars_app.route(\"/Sources\")\n",
    "# def index():\n",
    "#     Sources_list=[\"https://mars.nasa.gov/news/\",\n",
    "#                   \"https://www.jpl.nasa.gov/spaceimages/?search=&category=Mars\",\n",
    "#                   \"https://space-facts.com/mars/\"]\n",
    "#     return render_template(\"sources.html\",  Sources=Sources_list)"
   ]
  },
  {
   "cell_type": "code",
   "execution_count": null,
   "id": "athletic-humanitarian",
   "metadata": {},
   "outputs": [],
   "source": []
  },
  {
   "cell_type": "code",
   "execution_count": null,
   "id": "smart-cleaner",
   "metadata": {},
   "outputs": [],
   "source": [
    "# if __name__=='main':\n",
    "#         Marsget_app.run(debug=True)"
   ]
  },
  {
   "cell_type": "markdown",
   "id": "sublime-passage",
   "metadata": {},
   "source": [
    "if __name__ == \"__main__\":\n",
    "    insert_Mars_images.run(debug=True)\n",
    "    Mars_app.run(debug=True)"
   ]
  },
  {
   "cell_type": "code",
   "execution_count": null,
   "id": "increased-absorption",
   "metadata": {},
   "outputs": [],
   "source": []
  }
 ],
 "metadata": {
  "kernelspec": {
   "display_name": "Python 3",
   "language": "python",
   "name": "python3"
  },
  "language_info": {
   "codemirror_mode": {
    "name": "ipython",
    "version": 3
   },
   "file_extension": ".py",
   "mimetype": "text/x-python",
   "name": "python",
   "nbconvert_exporter": "python",
   "pygments_lexer": "ipython3",
   "version": "3.8.5"
  }
 },
 "nbformat": 4,
 "nbformat_minor": 5
}
