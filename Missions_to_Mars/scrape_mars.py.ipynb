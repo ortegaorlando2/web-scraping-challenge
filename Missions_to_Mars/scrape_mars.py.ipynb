{
 "cells": [
  {
   "cell_type": "markdown",
   "id": "bridal-layout",
   "metadata": {},
   "source": [
    "## Website data extraction  _original in mission_to_mars.ipynb"
   ]
  },
  {
   "cell_type": "markdown",
   "id": "biblical-sally",
   "metadata": {},
   "source": [
    "## Python script  in scrape_mars.py"
   ]
  },
  {
   "cell_type": "markdown",
   "id": "industrial-salon",
   "metadata": {},
   "source": [
    "## Mongo and Flask"
   ]
  },
  {
   "cell_type": "code",
   "execution_count": 26,
   "id": "super-screw",
   "metadata": {},
   "outputs": [],
   "source": [
    "#Dependencies\n",
    "#Flask\n",
    "from flask import Flask, render_template, redirect\n",
    "#connection to MongoDb\n",
    "from pymongo import MongoClient\n",
    "\n"
   ]
  },
  {
   "cell_type": "code",
   "execution_count": 27,
   "id": "operational-yugoslavia",
   "metadata": {},
   "outputs": [],
   "source": [
    "#import the script as a class and module\n",
    "from scrape_mars import myClass"
   ]
  },
  {
   "cell_type": "code",
   "execution_count": 28,
   "id": "printable-lying",
   "metadata": {},
   "outputs": [
    {
     "name": "stderr",
     "output_type": "stream",
     "text": [
      "C:\\Users\\oorte\\Documents\\RICE-CLASS-MATERIAL\\web-scraping-challenge\\web-scraping-challenge\\Missions_to_Mars\\scrape_mars.py:93: GuessedAtParserWarning: No parser was explicitly specified, so I'm using the best available HTML parser for this system (\"lxml\"). This usually isn't a problem, but if you run this code on another system, or in a different virtual environment, it may use a different parser and behave differently.\n",
      "\n",
      "The code that caused this warning is on line 93 of the file C:\\Users\\oorte\\Documents\\RICE-CLASS-MATERIAL\\web-scraping-challenge\\web-scraping-challenge\\Missions_to_Mars\\scrape_mars.py. To get rid of this warning, pass the additional argument 'features=\"lxml\"' to the BeautifulSoup constructor.\n",
      "\n",
      "  soup4=bs(r4.text,'html')\n"
     ]
    },
    {
     "name": "stdout",
     "output_type": "stream",
     "text": [
      "<Response [200]>\n"
     ]
    }
   ],
   "source": [
    "#Execute the scraping script by calling the function scrape in myClass\n",
    "dicti={\"\":\"\"}\n",
    "hemispheres={\"\":\"\"}\n",
    "f=myClass.scrape(dicti,hemispheres)\n",
    "\n",
    "\n",
    "# Marte.scrape(dict)"
   ]
  },
  {
   "cell_type": "code",
   "execution_count": 29,
   "id": "intense-roberts",
   "metadata": {},
   "outputs": [
    {
     "name": "stdout",
     "output_type": "stream",
     "text": [
      "[{'Cerberus Hemisphere Enhanced': 'https://astrogeology.usgs.gov/search/map/Mars/Viking/cerberus_enhanced'}, {'Schiaparelli Hemisphere Enhanced': 'https://astrogeology.usgs.gov/search/map/Mars/Viking/schiaparelli_enhanced'}, {'Syrtis Major Hemisphere Enhanced': 'https://astrogeology.usgs.gov/search/map/Mars/Viking/syrtis_major_enhanced'}, {'Valles Marineris Hemisphere Enhanced': 'https://astrogeology.usgs.gov/search/map/Mars/Viking/valles_marineris_enhanced'}]\n"
     ]
    }
   ],
   "source": [
    "print(f)"
   ]
  },
  {
   "cell_type": "code",
   "execution_count": null,
   "id": "constitutional-agenda",
   "metadata": {},
   "outputs": [],
   "source": []
  },
  {
   "cell_type": "code",
   "execution_count": 23,
   "id": "minimal-letter",
   "metadata": {},
   "outputs": [],
   "source": [
    "Marsget_app = Flask(__name__)"
   ]
  },
  {
   "cell_type": "code",
   "execution_count": 24,
   "id": "sapphire-coordination",
   "metadata": {},
   "outputs": [],
   "source": [
    "@Marsget_app.route(\"/\")\n",
    "def echo():\n",
    "    return render_template(\"index.html\",text=\"Welcome to my rough Mars API\")"
   ]
  },
  {
   "cell_type": "code",
   "execution_count": 25,
   "id": "welsh-helicopter",
   "metadata": {},
   "outputs": [
    {
     "name": "stdout",
     "output_type": "stream",
     "text": [
      " * Serving Flask app \"__main__\" (lazy loading)\n",
      " * Environment: production\n",
      "   WARNING: This is a development server. Do not use it in a production deployment.\n",
      "   Use a production WSGI server instead.\n",
      " * Debug mode: on\n"
     ]
    },
    {
     "name": "stderr",
     "output_type": "stream",
     "text": [
      " * Restarting with stat\n"
     ]
    },
    {
     "ename": "SystemExit",
     "evalue": "1",
     "output_type": "error",
     "traceback": [
      "An exception has occurred, use %tb to see the full traceback.\n",
      "\u001b[1;31mSystemExit\u001b[0m\u001b[1;31m:\u001b[0m 1\n"
     ]
    }
   ],
   "source": [
    "if __name__ == \"__main__\":\n",
    "    Marsget_app.run(debug=True)"
   ]
  },
  {
   "cell_type": "code",
   "execution_count": null,
   "id": "attempted-studio",
   "metadata": {},
   "outputs": [],
   "source": [
    "# def home():\n",
    "\n",
    "#     message = \"Welcome to my rough Mars API\"\n",
    "#     WhatsNew = db.MarsNews_Mongo.find_one()\n",
    "#     Sources_list=[\"https://mars.nasa.gov/news/\",\n",
    "#     \"https://www.jpl.nasa.gov/spaceimages/?search=&category=Mars\",\n",
    "#     \"https://space-facts.com/mars/\"]\n",
    "    \n",
    "#     return render_template(\"index.html\", WhatsNew=WhatsNew)"
   ]
  },
  {
   "cell_type": "code",
   "execution_count": 18,
   "id": "virtual-batman",
   "metadata": {},
   "outputs": [],
   "source": [
    "# #This is the route that will import dictionary\n",
    "# @Marsget_app.route(\"/scrape\"):\n",
    "\n",
    "# def scraper1():\n",
    "#     f=myClass.scrape(hemispheres)"
   ]
  },
  {
   "cell_type": "code",
   "execution_count": 19,
   "id": "original-detail",
   "metadata": {},
   "outputs": [
    {
     "name": "stdout",
     "output_type": "stream",
     "text": [
      "{'': ''}\n"
     ]
    }
   ],
   "source": [
    "print(hemispheres)   \n",
    "    "
   ]
  },
  {
   "cell_type": "code",
   "execution_count": null,
   "id": "electronic-drinking",
   "metadata": {},
   "outputs": [],
   "source": [
    "#     #prepare mongo to upload the images dictionary \n",
    "#     mongo_url = \"mongodb://localhost:27017\"\n",
    "#     #pass Mongo URL to MongoClient constructor. Defines the connection\n",
    "#     client = MongoClient(mongo_url)\n",
    "#     #defines a unique handle on the Mongo database for this code\n",
    "#     db = client.MarsPhotos_db\n",
    "#     #handle to the connection to insert the data. Define the variable\n",
    "#     #Mars_collection that will contain the data\n",
    "#     HemImages=db.HemImages\n",
    "    \n",
    "#     hemispheres=[]\n",
    "#     textoTitle=\"\"\n",
    "#     texto3=\"\"\n",
    "#     t_html=\"\""
   ]
  },
  {
   "cell_type": "code",
   "execution_count": null,
   "id": "great-trauma",
   "metadata": {},
   "outputs": [],
   "source": [
    "# #this creates Flask app\n",
    "# Marsget_app = Flask(__name__)"
   ]
  },
  {
   "cell_type": "code",
   "execution_count": null,
   "id": "olive-palmer",
   "metadata": {},
   "outputs": [],
   "source": [
    "# HemImages.insert_many(hemispheres)"
   ]
  },
  {
   "cell_type": "code",
   "execution_count": null,
   "id": "charitable-harris",
   "metadata": {},
   "outputs": [],
   "source": [
    "# @Mars_app.route(\"/\")\n",
    "# def query():\n",
    "#     message = \"Welcome to my rough Mars API\"\n",
    "#     WhatsNew = db.MarsNews_Mongo.find_one()\n",
    "#     return render_template(\"index.html\", WhatsNew=WhatsNew)\n"
   ]
  },
  {
   "cell_type": "code",
   "execution_count": null,
   "id": "identified-discipline",
   "metadata": {},
   "outputs": [],
   "source": [
    "# @Mars_app.route(\"/bio\")\n",
    "# def bio():\n",
    "#     return render_template(\"bio.html\")"
   ]
  },
  {
   "cell_type": "code",
   "execution_count": null,
   "id": "advanced-ground",
   "metadata": {},
   "outputs": [],
   "source": [
    "# @Mars_app.route(\"/Sources\")\n",
    "# def index():\n",
    "#     Sources_list=[\"https://mars.nasa.gov/news/\",\n",
    "#                   \"https://www.jpl.nasa.gov/spaceimages/?search=&category=Mars\",\n",
    "#                   \"https://space-facts.com/mars/\"]\n",
    "#     return render_template(\"sources.html\",  Sources=Sources_list)"
   ]
  },
  {
   "cell_type": "code",
   "execution_count": null,
   "id": "athletic-humanitarian",
   "metadata": {},
   "outputs": [],
   "source": []
  },
  {
   "cell_type": "code",
   "execution_count": null,
   "id": "smart-cleaner",
   "metadata": {},
   "outputs": [],
   "source": [
    "# if __name__=='main':\n",
    "#         Marsget_app.run(debug=True)"
   ]
  },
  {
   "cell_type": "markdown",
   "id": "sublime-passage",
   "metadata": {},
   "source": [
    "if __name__ == \"__main__\":\n",
    "    insert_Mars_images.run(debug=True)\n",
    "    Mars_app.run(debug=True)"
   ]
  },
  {
   "cell_type": "code",
   "execution_count": null,
   "id": "increased-absorption",
   "metadata": {},
   "outputs": [],
   "source": []
  }
 ],
 "metadata": {
  "kernelspec": {
   "display_name": "Python 3",
   "language": "python",
   "name": "python3"
  },
  "language_info": {
   "codemirror_mode": {
    "name": "ipython",
    "version": 3
   },
   "file_extension": ".py",
   "mimetype": "text/x-python",
   "name": "python",
   "nbconvert_exporter": "python",
   "pygments_lexer": "ipython3",
   "version": "3.8.5"
  }
 },
 "nbformat": 4,
 "nbformat_minor": 5
}
