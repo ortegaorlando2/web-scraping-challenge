{
 "cells": [
  {
   "cell_type": "code",
   "execution_count": null,
   "id": "super-screw",
   "metadata": {},
   "outputs": [],
   "source": [
    "#Dependencies\n",
    "#\n",
    "from flask import Flask, render_template, redirect\n",
    "#connection to MongoDb\n",
    "from pymongo import MongoClient\n",
    "# import jupyter notebook as a function\n",
    "import scrape"
   ]
  },
  {
   "cell_type": "code",
   "execution_count": null,
   "id": "specialized-violence",
   "metadata": {},
   "outputs": [],
   "source": [
    "#this creates Flask\n",
    "Mars_app = Flask(__name__)\n",
    "\n",
    "# Use pymongo to set up mongo connection\n",
    "mongo_url = \"mongodb://localhost:27017\"\n",
    "#pass Mongo URL to MongoClient constructor. Defines the connection\n",
    "client = MongoClient(mongo_url)\n",
    "#defines a unique handle on the Mongo database for this code\n",
    "db = client.MarsNews_db\n",
    "#handle to the connection to insert the data. Define the variable\n",
    "#hemispheres_collection that will contain the data\n",
    "hemispheres_collection=db."
   ]
  },
  {
   "cell_type": "code",
   "execution_count": null,
   "id": "printable-lying",
   "metadata": {},
   "outputs": [],
   "source": [
    "def insert_data_Mongo(): \n",
    "    facts_lst = [{\"name\":\"key1Hemisphere\", \"link\":\"\"},{\"name\":\"key2Hemisphere\", \"link\":\"\"},\n",
    "{\"name\":\"key3Hemisphere\", \"link\":\"\"},{\"name\":\"key4Hemisphere\", \"link\":\"\"}]"
   ]
  },
  {
   "cell_type": "code",
   "execution_count": null,
   "id": "future-scanner",
   "metadata": {},
   "outputs": [],
   "source": [
    "hemispheres=[{\"name\":\"key1Hemisphere\", \"link\":\"\"},{\"name\":\"key2Hemisphere\", \"link\":\"\"},\n",
    "{\"name\":\"key3Hemisphere\", \"link\":\"\"},{\"name\":\"key4Hemisphere\", \"link\":\"\"}]"
   ]
  },
  {
   "cell_type": "code",
   "execution_count": null,
   "id": "olive-palmer",
   "metadata": {},
   "outputs": [],
   "source": [
    "#This is the route that will import most of my code\n",
    "@Mars_app.route(\"/scrape\")\n",
    "def scrape():\n",
    "    message = \"Welcome to my API\"\n",
    "    return render_template('index.html', text=message, dict=hemispheres)"
   ]
  },
  {
   "cell_type": "code",
   "execution_count": null,
   "id": "charitable-harris",
   "metadata": {},
   "outputs": [],
   "source": [
    "@Mars_app.route(\"/\")\n",
    "def query():\n",
    "    WhatsNew = db.MarsNews_Mongo.find_one()\n",
    "    return render_template(\"index.html\", WhatsNew=WhatsNew)\n"
   ]
  },
  {
   "cell_type": "code",
   "execution_count": null,
   "id": "identified-discipline",
   "metadata": {},
   "outputs": [],
   "source": [
    "@Mars_app.route(\"/bio\")\n",
    "def bio():\n",
    "    return render_template(\"bio.html\")"
   ]
  },
  {
   "cell_type": "code",
   "execution_count": null,
   "id": "advanced-ground",
   "metadata": {},
   "outputs": [],
   "source": [
    "@Mars_app.route(\"/Sources\")\n",
    "def index():\n",
    "    Sources_list=[\"https://mars.nasa.gov/news/\",\n",
    "                  \"https://www.jpl.nasa.gov/spaceimages/?search=&category=Mars\",\n",
    "                  \"https://space-facts.com/mars/\"]\n",
    "    return render_template(\"sources.html\",  Sources=Sources_list)"
   ]
  },
  {
   "cell_type": "code",
   "execution_count": null,
   "id": "compound-stuart",
   "metadata": {},
   "outputs": [],
   "source": [
    "if __name__ == \"__main__\":\n",
    "    Mars_app.run(debug=True)"
   ]
  }
 ],
 "metadata": {
  "kernelspec": {
   "display_name": "Python 3",
   "language": "python",
   "name": "python3"
  },
  "language_info": {
   "codemirror_mode": {
    "name": "ipython",
    "version": 3
   },
   "file_extension": ".py",
   "mimetype": "text/x-python",
   "name": "python",
   "nbconvert_exporter": "python",
   "pygments_lexer": "ipython3",
   "version": "3.8.5"
  }
 },
 "nbformat": 4,
 "nbformat_minor": 5
}
