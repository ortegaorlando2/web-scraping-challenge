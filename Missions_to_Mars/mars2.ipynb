{
 "cells": [
  {
   "cell_type": "markdown",
   "id": "usual-dover",
   "metadata": {},
   "source": [
    "#### Import Dependencies"
   ]
  },
  {
   "cell_type": "code",
   "execution_count": 4,
   "id": "endangered-currency",
   "metadata": {},
   "outputs": [],
   "source": [
    "# Dependencies\n",
    "#from splinter import Browser\n",
    "from bs4 import BeautifulSoup as bs\n",
    "import requests"
   ]
  },
  {
   "cell_type": "code",
   "execution_count": 5,
   "id": "multiple-chosen",
   "metadata": {},
   "outputs": [],
   "source": [
    "#website2= Nasa\n",
    "Website2=\"https://mars.nasa.gov/news/?page=0&per_page=40&order=publish_date+desc%2Ccreated_at+desc&search=&category=19%2C165%2C184%2C204&blank_scope=Latest\""
   ]
  },
  {
   "cell_type": "code",
   "execution_count": 153,
   "id": "serious-tackle",
   "metadata": {},
   "outputs": [],
   "source": [
    "response2=requests.get(Website2)\n",
    "soup=bs(response2.text,'html.parser')"
   ]
  },
  {
   "cell_type": "markdown",
   "id": "interpreted-earth",
   "metadata": {},
   "source": [
    "#### The website returns news that are not the latest shown and list_date cannot be accessed"
   ]
  },
  {
   "cell_type": "code",
   "execution_count": 163,
   "id": "piano-clearance",
   "metadata": {},
   "outputs": [
    {
     "data": {
      "text/plain": [
       "[]"
      ]
     },
     "execution_count": 163,
     "metadata": {},
     "output_type": "execute_result"
    }
   ],
   "source": [
    "result = soup.find_all('div', class_=\"list_text\")\n",
    "result"
   ]
  },
  {
   "cell_type": "code",
   "execution_count": 96,
   "id": "looking-wrong",
   "metadata": {},
   "outputs": [],
   "source": [
    "results1 = soup.find('div', class_='content_title').text.strip()"
   ]
  },
  {
   "cell_type": "code",
   "execution_count": 98,
   "id": "unauthorized-foster",
   "metadata": {},
   "outputs": [
    {
     "name": "stdout",
     "output_type": "stream",
     "text": [
      "\"The first first title for the latest news provided by the website is: \" NASA to Host Virtual Briefing on February Perseverance Mars Rover Landing\n"
     ]
    }
   ],
   "source": [
    "results1\n",
    "print(f'\"The first first title for the latest news provided by the website is: \" {results1}')"
   ]
  },
  {
   "cell_type": "code",
   "execution_count": 100,
   "id": "chronic-satin",
   "metadata": {},
   "outputs": [],
   "source": [
    "results2 = soup.find_all('div', class_=\"image_and_description_container\")"
   ]
  },
  {
   "cell_type": "code",
   "execution_count": 101,
   "id": "black-chinese",
   "metadata": {},
   "outputs": [
    {
     "name": "stdout",
     "output_type": "stream",
     "text": [
      "\"The first paragraph for the latest news provided by the website is: \" NASA leadership and members of the mission will discuss the agency’s latest rover, which touches down on the Red Planet on Feb. 18.\n"
     ]
    }
   ],
   "source": [
    "FirstPar=results2[0].find('div', class_='rollover_description_inner').text.strip()\n",
    "print(f'\"The first paragraph for the latest news provided by the website is: \" {FirstPar}')"
   ]
  },
  {
   "cell_type": "code",
   "execution_count": null,
   "id": "threatened-black",
   "metadata": {},
   "outputs": [],
   "source": []
  }
 ],
 "metadata": {
  "kernelspec": {
   "display_name": "Python [conda env:MongoEnv] *",
   "language": "python",
   "name": "conda-env-MongoEnv-py"
  },
  "language_info": {
   "codemirror_mode": {
    "name": "ipython",
    "version": 3
   },
   "file_extension": ".py",
   "mimetype": "text/x-python",
   "name": "python",
   "nbconvert_exporter": "python",
   "pygments_lexer": "ipython3",
   "version": "3.8.5"
  }
 },
 "nbformat": 4,
 "nbformat_minor": 5
}
