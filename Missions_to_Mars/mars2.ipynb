{
 "cells": [
  {
   "cell_type": "markdown",
   "id": "greater-nudist",
   "metadata": {},
   "source": [
    "#### Import Dependencies"
   ]
  },
  {
   "cell_type": "code",
   "execution_count": 1,
   "id": "french-report",
   "metadata": {},
   "outputs": [],
   "source": [
    "# Dependencies\n",
    "#from splinter import Browser\n",
    "from bs4 import BeautifulSoup as bs\n",
    "import requests"
   ]
  },
  {
   "cell_type": "code",
   "execution_count": 2,
   "id": "governing-outline",
   "metadata": {},
   "outputs": [],
   "source": [
    "#website2= Nasa\n",
    "Website2=\"https://mars.nasa.gov/news/?page=0&per_page=40&order=publish_date+desc%2Ccreated_at+desc&search=&category=19%2C165%2C184%2C204&blank_scope=Latest\""
   ]
  },
  {
   "cell_type": "code",
   "execution_count": 3,
   "id": "anticipated-inventory",
   "metadata": {},
   "outputs": [],
   "source": [
    "response2=requests.get(Website2)\n",
    "soup=bs(response2.text,'html.parser')"
   ]
  },
  {
   "cell_type": "markdown",
   "id": "measured-growth",
   "metadata": {},
   "source": [
    "#### The website returns news that are not the latest shown and list_date cannot be accessed"
   ]
  },
  {
   "cell_type": "code",
   "execution_count": 4,
   "id": "enhanced-mouse",
   "metadata": {},
   "outputs": [
    {
     "ename": "AttributeError",
     "evalue": "'NoneType' object has no attribute 'text'",
     "output_type": "error",
     "traceback": [
      "\u001b[1;31m---------------------------------------------------------------------------\u001b[0m",
      "\u001b[1;31mAttributeError\u001b[0m                            Traceback (most recent call last)",
      "\u001b[1;32m<ipython-input-4-343fa8f73f6a>\u001b[0m in \u001b[0;36m<module>\u001b[1;34m\u001b[0m\n\u001b[1;32m----> 1\u001b[1;33m \u001b[0mresult\u001b[0m \u001b[1;33m=\u001b[0m \u001b[0msoup\u001b[0m\u001b[1;33m.\u001b[0m\u001b[0mfind\u001b[0m\u001b[1;33m(\u001b[0m\u001b[1;34m'div'\u001b[0m\u001b[1;33m,\u001b[0m \u001b[0mclass_\u001b[0m\u001b[1;33m=\u001b[0m\u001b[1;34m\"list_date\"\u001b[0m\u001b[1;33m)\u001b[0m\u001b[1;33m.\u001b[0m\u001b[0mtext\u001b[0m\u001b[1;33m\u001b[0m\u001b[1;33m\u001b[0m\u001b[0m\n\u001b[0m\u001b[0;32m      2\u001b[0m \u001b[1;33m\u001b[0m\u001b[0m\n\u001b[0;32m      3\u001b[0m \u001b[0mresult\u001b[0m\u001b[1;33m\u001b[0m\u001b[1;33m\u001b[0m\u001b[0m\n",
      "\u001b[1;31mAttributeError\u001b[0m: 'NoneType' object has no attribute 'text'"
     ]
    }
   ],
   "source": [
    "result = soup.find('div', class_=\"list_date\").text\n",
    "\n",
    "result"
   ]
  },
  {
   "cell_type": "code",
   "execution_count": 96,
   "id": "rapid-destination",
   "metadata": {},
   "outputs": [],
   "source": [
    "results1 = soup.find('div', class_='content_title').text.strip()"
   ]
  },
  {
   "cell_type": "code",
   "execution_count": 98,
   "id": "quarterly-guitar",
   "metadata": {},
   "outputs": [
    {
     "name": "stdout",
     "output_type": "stream",
     "text": [
      "\"The first first title for the latest news provided by the website is: \" NASA to Host Virtual Briefing on February Perseverance Mars Rover Landing\n"
     ]
    }
   ],
   "source": [
    "results1\n",
    "print(f'\"The first first title for the latest news provided by the website is: \" {results1}')"
   ]
  },
  {
   "cell_type": "code",
   "execution_count": 100,
   "id": "olive-reservoir",
   "metadata": {},
   "outputs": [],
   "source": [
    "results2 = soup.find_all('div', class_=\"image_and_description_container\")"
   ]
  },
  {
   "cell_type": "code",
   "execution_count": 101,
   "id": "bizarre-river",
   "metadata": {},
   "outputs": [
    {
     "name": "stdout",
     "output_type": "stream",
     "text": [
      "\"The first paragraph for the latest news provided by the website is: \" NASA leadership and members of the mission will discuss the agency’s latest rover, which touches down on the Red Planet on Feb. 18.\n"
     ]
    }
   ],
   "source": [
    "FirstPar=results2[0].find('div', class_='rollover_description_inner').text.strip()\n",
    "print(f'\"The first paragraph for the latest news provided by the website is: \" {FirstPar}')"
   ]
  },
  {
   "cell_type": "code",
   "execution_count": null,
   "id": "controlling-empty",
   "metadata": {},
   "outputs": [],
   "source": []
  }
 ],
 "metadata": {
  "kernelspec": {
   "display_name": "Python [conda env:MongoEnv] *",
   "language": "python",
   "name": "conda-env-MongoEnv-py"
  },
  "language_info": {
   "codemirror_mode": {
    "name": "ipython",
    "version": 3
   },
   "file_extension": ".py",
   "mimetype": "text/x-python",
   "name": "python",
   "nbconvert_exporter": "python",
   "pygments_lexer": "ipython3",
   "version": "3.8.5"
  }
 },
 "nbformat": 4,
 "nbformat_minor": 5
}
